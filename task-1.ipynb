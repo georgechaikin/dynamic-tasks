{
 "cells": [
  {
   "cell_type": "markdown",
   "id": "699c7f40-9089-452f-b52e-f493974d36c1",
   "metadata": {},
   "source": [
    "<img src=\"data/hw-1.5.png\" width = 500 height = 500 alt=\"Домашнее задание\" class = \"center\">"
   ]
  },
  {
   "cell_type": "code",
   "execution_count": 114,
   "id": "c69bdf44-31da-4f96-ab1d-0988efcb1073",
   "metadata": {},
   "outputs": [],
   "source": [
    "import numpy as np\n",
    "import os"
   ]
  },
  {
   "cell_type": "code",
   "execution_count": 118,
   "id": "13b78cc4-5095-4a44-ad8e-fbbf24a90987",
   "metadata": {},
   "outputs": [],
   "source": [
    "# m, n = 3, 5\n",
    "# way_map = {(row, column): (int(input()),int(input())) for row in range(n+1) for column in range(m+1)}\n",
    "def input_values(m, n, no_value = -1, save_path = os.path.join('data', 'map.txt')):\n",
    "    \"\"\"\n",
    "    Позволяет запонить словарь (ключ - координата) значениями затрат при соответстующем направлении, также заполняет txt файл\n",
    "    \"\"\"\n",
    "    way_map = {(row, column): [no_value, no_value] for row in range(m) for column in range(n)}\n",
    "    with open(save_path, 'w') as f:\n",
    "        for key in way_map.keys():\n",
    "            if key[1] < n - 1:\n",
    "                print(f'{key}->{(key[0], key[1]+1)}:')\n",
    "                way_map[key][1] = int(input())\n",
    "                f.write(f'{key}->{(key[0], key[1]+1)}: {way_map[key][1]}\\n' )\n",
    "            if key[0] < m - 1:\n",
    "                print(f'{key}->{(key[0]+1, key[1])}:')\n",
    "                way_map[key][0] = int(input())\n",
    "                f.write(f'{key}->{(key[0]+1, key[1])}: {way_map[key][0]}\\n' )\n",
    "        return way_map"
   ]
  },
  {
   "cell_type": "code",
   "execution_count": 121,
   "id": "81fc387e-6f7a-462c-946b-1a492786aadd",
   "metadata": {},
   "outputs": [
    {
     "name": "stdout",
     "output_type": "stream",
     "text": [
      "(0, 0)->(0, 1):\n"
     ]
    },
    {
     "name": "stdin",
     "output_type": "stream",
     "text": [
      " 13\n"
     ]
    },
    {
     "name": "stdout",
     "output_type": "stream",
     "text": [
      "(0, 0)->(1, 0):\n"
     ]
    },
    {
     "name": "stdin",
     "output_type": "stream",
     "text": [
      " 12\n"
     ]
    },
    {
     "name": "stdout",
     "output_type": "stream",
     "text": [
      "(0, 1)->(0, 2):\n"
     ]
    },
    {
     "name": "stdin",
     "output_type": "stream",
     "text": [
      " 9\n"
     ]
    },
    {
     "name": "stdout",
     "output_type": "stream",
     "text": [
      "(0, 1)->(1, 1):\n"
     ]
    },
    {
     "name": "stdin",
     "output_type": "stream",
     "text": [
      " 10\n"
     ]
    },
    {
     "name": "stdout",
     "output_type": "stream",
     "text": [
      "(0, 2)->(0, 3):\n"
     ]
    },
    {
     "name": "stdin",
     "output_type": "stream",
     "text": [
      " 10\n"
     ]
    },
    {
     "name": "stdout",
     "output_type": "stream",
     "text": [
      "(0, 2)->(1, 2):\n"
     ]
    },
    {
     "name": "stdin",
     "output_type": "stream",
     "text": [
      " 13\n"
     ]
    },
    {
     "name": "stdout",
     "output_type": "stream",
     "text": [
      "(0, 3)->(1, 3):\n"
     ]
    },
    {
     "name": "stdin",
     "output_type": "stream",
     "text": [
      " 15\n"
     ]
    },
    {
     "name": "stdout",
     "output_type": "stream",
     "text": [
      "(1, 0)->(1, 1):\n"
     ]
    },
    {
     "name": "stdin",
     "output_type": "stream",
     "text": [
      " 12\n"
     ]
    },
    {
     "name": "stdout",
     "output_type": "stream",
     "text": [
      "(1, 0)->(2, 0):\n"
     ]
    },
    {
     "name": "stdin",
     "output_type": "stream",
     "text": [
      " 10\n"
     ]
    },
    {
     "name": "stdout",
     "output_type": "stream",
     "text": [
      "(1, 1)->(1, 2):\n"
     ]
    },
    {
     "name": "stdin",
     "output_type": "stream",
     "text": [
      " 7\n"
     ]
    },
    {
     "name": "stdout",
     "output_type": "stream",
     "text": [
      "(1, 1)->(2, 1):\n"
     ]
    },
    {
     "name": "stdin",
     "output_type": "stream",
     "text": [
      " 9\n"
     ]
    },
    {
     "name": "stdout",
     "output_type": "stream",
     "text": [
      "(1, 2)->(1, 3):\n"
     ]
    },
    {
     "name": "stdin",
     "output_type": "stream",
     "text": [
      " 8\n"
     ]
    },
    {
     "name": "stdout",
     "output_type": "stream",
     "text": [
      "(1, 2)->(2, 2):\n"
     ]
    },
    {
     "name": "stdin",
     "output_type": "stream",
     "text": [
      " 12\n"
     ]
    },
    {
     "name": "stdout",
     "output_type": "stream",
     "text": [
      "(1, 3)->(2, 3):\n"
     ]
    },
    {
     "name": "stdin",
     "output_type": "stream",
     "text": [
      " 11\n"
     ]
    },
    {
     "name": "stdout",
     "output_type": "stream",
     "text": [
      "(2, 0)->(2, 1):\n"
     ]
    },
    {
     "name": "stdin",
     "output_type": "stream",
     "text": [
      " 11\n"
     ]
    },
    {
     "name": "stdout",
     "output_type": "stream",
     "text": [
      "(2, 0)->(3, 0):\n"
     ]
    },
    {
     "name": "stdin",
     "output_type": "stream",
     "text": [
      " 9\n"
     ]
    },
    {
     "name": "stdout",
     "output_type": "stream",
     "text": [
      "(2, 1)->(2, 2):\n"
     ]
    },
    {
     "name": "stdin",
     "output_type": "stream",
     "text": [
      " 7\n"
     ]
    },
    {
     "name": "stdout",
     "output_type": "stream",
     "text": [
      "(2, 1)->(3, 1):\n"
     ]
    },
    {
     "name": "stdin",
     "output_type": "stream",
     "text": [
      " 8\n"
     ]
    },
    {
     "name": "stdout",
     "output_type": "stream",
     "text": [
      "(2, 2)->(2, 3):\n"
     ]
    },
    {
     "name": "stdin",
     "output_type": "stream",
     "text": [
      " 9\n"
     ]
    },
    {
     "name": "stdout",
     "output_type": "stream",
     "text": [
      "(2, 2)->(3, 2):\n"
     ]
    },
    {
     "name": "stdin",
     "output_type": "stream",
     "text": [
      " 8\n"
     ]
    },
    {
     "name": "stdout",
     "output_type": "stream",
     "text": [
      "(2, 3)->(3, 3):\n"
     ]
    },
    {
     "name": "stdin",
     "output_type": "stream",
     "text": [
      " 10\n"
     ]
    },
    {
     "name": "stdout",
     "output_type": "stream",
     "text": [
      "(3, 0)->(3, 1):\n"
     ]
    },
    {
     "name": "stdin",
     "output_type": "stream",
     "text": [
      " 13\n"
     ]
    },
    {
     "name": "stdout",
     "output_type": "stream",
     "text": [
      "(3, 0)->(4, 0):\n"
     ]
    },
    {
     "name": "stdin",
     "output_type": "stream",
     "text": [
      " 8\n"
     ]
    },
    {
     "name": "stdout",
     "output_type": "stream",
     "text": [
      "(3, 1)->(3, 2):\n"
     ]
    },
    {
     "name": "stdin",
     "output_type": "stream",
     "text": [
      " 11\n"
     ]
    },
    {
     "name": "stdout",
     "output_type": "stream",
     "text": [
      "(3, 1)->(4, 1):\n"
     ]
    },
    {
     "name": "stdin",
     "output_type": "stream",
     "text": [
      " 7\n"
     ]
    },
    {
     "name": "stdout",
     "output_type": "stream",
     "text": [
      "(3, 2)->(3, 3):\n"
     ]
    },
    {
     "name": "stdin",
     "output_type": "stream",
     "text": [
      " 11\n"
     ]
    },
    {
     "name": "stdout",
     "output_type": "stream",
     "text": [
      "(3, 2)->(4, 2):\n"
     ]
    },
    {
     "name": "stdin",
     "output_type": "stream",
     "text": [
      " 8\n"
     ]
    },
    {
     "name": "stdout",
     "output_type": "stream",
     "text": [
      "(3, 3)->(4, 3):\n"
     ]
    },
    {
     "name": "stdin",
     "output_type": "stream",
     "text": [
      " 11\n"
     ]
    },
    {
     "name": "stdout",
     "output_type": "stream",
     "text": [
      "(4, 0)->(4, 1):\n"
     ]
    },
    {
     "name": "stdin",
     "output_type": "stream",
     "text": [
      " 15\n"
     ]
    },
    {
     "name": "stdout",
     "output_type": "stream",
     "text": [
      "(4, 0)->(5, 0):\n"
     ]
    },
    {
     "name": "stdin",
     "output_type": "stream",
     "text": [
      " 10\n"
     ]
    },
    {
     "name": "stdout",
     "output_type": "stream",
     "text": [
      "(4, 1)->(4, 2):\n"
     ]
    },
    {
     "name": "stdin",
     "output_type": "stream",
     "text": [
      " 11\n"
     ]
    },
    {
     "name": "stdout",
     "output_type": "stream",
     "text": [
      "(4, 1)->(5, 1):\n"
     ]
    },
    {
     "name": "stdin",
     "output_type": "stream",
     "text": [
      " 9\n"
     ]
    },
    {
     "name": "stdout",
     "output_type": "stream",
     "text": [
      "(4, 2)->(4, 3):\n"
     ]
    },
    {
     "name": "stdin",
     "output_type": "stream",
     "text": [
      " 11\n"
     ]
    },
    {
     "name": "stdout",
     "output_type": "stream",
     "text": [
      "(4, 2)->(5, 2):\n"
     ]
    },
    {
     "name": "stdin",
     "output_type": "stream",
     "text": [
      " 9\n"
     ]
    },
    {
     "name": "stdout",
     "output_type": "stream",
     "text": [
      "(4, 3)->(5, 3):\n"
     ]
    },
    {
     "name": "stdin",
     "output_type": "stream",
     "text": [
      " 12\n"
     ]
    },
    {
     "name": "stdout",
     "output_type": "stream",
     "text": [
      "(5, 0)->(5, 1):\n"
     ]
    },
    {
     "name": "stdin",
     "output_type": "stream",
     "text": [
      " 18\n"
     ]
    },
    {
     "name": "stdout",
     "output_type": "stream",
     "text": [
      "(5, 1)->(5, 2):\n"
     ]
    },
    {
     "name": "stdin",
     "output_type": "stream",
     "text": [
      " 12\n"
     ]
    },
    {
     "name": "stdout",
     "output_type": "stream",
     "text": [
      "(5, 2)->(5, 3):\n"
     ]
    },
    {
     "name": "stdin",
     "output_type": "stream",
     "text": [
      " 9\n"
     ]
    }
   ],
   "source": [
    "way_map = input_values(6, 4)"
   ]
  },
  {
   "cell_type": "code",
   "execution_count": 122,
   "id": "d5b474cf-e269-4e2e-b7d0-18851a7869ee",
   "metadata": {},
   "outputs": [
    {
     "data": {
      "text/plain": [
       "{(0, 0): [12, 13],\n",
       " (0, 1): [10, 9],\n",
       " (0, 2): [13, 10],\n",
       " (0, 3): [15, -1],\n",
       " (1, 0): [10, 12],\n",
       " (1, 1): [9, 7],\n",
       " (1, 2): [12, 8],\n",
       " (1, 3): [11, -1],\n",
       " (2, 0): [9, 11],\n",
       " (2, 1): [8, 7],\n",
       " (2, 2): [8, 9],\n",
       " (2, 3): [10, -1],\n",
       " (3, 0): [8, 13],\n",
       " (3, 1): [7, 11],\n",
       " (3, 2): [8, 11],\n",
       " (3, 3): [11, -1],\n",
       " (4, 0): [10, 15],\n",
       " (4, 1): [9, 11],\n",
       " (4, 2): [9, 11],\n",
       " (4, 3): [12, -1],\n",
       " (5, 0): [-1, 18],\n",
       " (5, 1): [-1, 12],\n",
       " (5, 2): [-1, 9],\n",
       " (5, 3): [-1, -1]}"
      ]
     },
     "execution_count": 122,
     "metadata": {},
     "output_type": "execute_result"
    }
   ],
   "source": [
    "way_map"
   ]
  },
  {
   "cell_type": "code",
   "execution_count": 169,
   "id": "7299dd92-227a-452e-95df-945b1c191c9d",
   "metadata": {},
   "outputs": [],
   "source": [
    "import ast\n",
    "\n",
    "def read_map(map_path = os.path.join('data', 'map.txt'), no_value = -1):\n",
    "    \"\"\"\n",
    "    Считывает значение точек и затраты из txt файла\n",
    "    \"\"\"\n",
    "    result = dict()\n",
    "    with open(map_path, 'r') as f:\n",
    "        info = f.readline()\n",
    "        while info.strip():\n",
    "            info = info.strip()\n",
    "            direction, length = [info_part.strip() for info_part in info.split(':')]\n",
    "            begin, end = [ast.literal_eval(direction_part) for direction_part in direction.split('->')]\n",
    "            \n",
    "            if begin not in result:\n",
    "                result[begin] = [no_value, no_value]\n",
    "            if end not in result:\n",
    "                result[end] = [no_value, no_value]\n",
    "            \n",
    "            if end[0] - begin[0]>0:\n",
    "                result[begin][0] = int(length)\n",
    "            elif end[1] - begin[1]>0:\n",
    "                result[begin][1] = int(length)\n",
    "            \n",
    "            info = f.readline()\n",
    "            \n",
    "        return result"
   ]
  },
  {
   "cell_type": "code",
   "execution_count": 176,
   "id": "99dae9e3-433f-4d10-b0bf-fb53ef5d8e75",
   "metadata": {},
   "outputs": [
    {
     "data": {
      "text/plain": [
       "{(0, 0): [12, 13],\n",
       " (0, 1): [10, 9],\n",
       " (1, 0): [10, 12],\n",
       " (0, 2): [13, 10],\n",
       " (1, 1): [9, 7],\n",
       " (0, 3): [15, -1],\n",
       " (1, 2): [12, 8],\n",
       " (1, 3): [11, -1],\n",
       " (2, 0): [9, 11],\n",
       " (2, 1): [8, 7],\n",
       " (2, 2): [8, 9],\n",
       " (2, 3): [10, -1],\n",
       " (3, 0): [8, 13],\n",
       " (3, 1): [7, 11],\n",
       " (3, 2): [8, 11],\n",
       " (3, 3): [11, -1],\n",
       " (4, 0): [10, 15],\n",
       " (4, 1): [9, 11],\n",
       " (4, 2): [9, 11],\n",
       " (4, 3): [12, -1],\n",
       " (5, 0): [-1, 18],\n",
       " (5, 1): [-1, 12],\n",
       " (5, 2): [-1, 9],\n",
       " (5, 3): [-1, -1]}"
      ]
     },
     "execution_count": 176,
     "metadata": {},
     "output_type": "execute_result"
    }
   ],
   "source": [
    "read_map()"
   ]
  },
  {
   "cell_type": "code",
   "execution_count": 361,
   "id": "1440404c-50e8-413d-9e22-6e8e48c7f6c2",
   "metadata": {},
   "outputs": [],
   "source": [
    "def find_min(point, way_map, opt_cost, no_value = -1):\n",
    "    \"\"\"\n",
    "    Ищет минимальную величину затрат и направление для конкретной точки для задачи о наборе высоты и скорости\n",
    "        (при условии, что соседние точки имеют оптимальные значения затрат или конкретная точка крайняя)\n",
    "    Args:\n",
    "        point (tuple): текущая точка\n",
    "        way_map (dict): словарь, в котором для каждого ключа (аргумента) хранится значение затрат\n",
    "            за один шаг вверх и направо соответственно\n",
    "        opt_cost (np.array): матрица оптимальных затрат\n",
    "            (каждое значение в матрице соответствует значению оптимпльных затрат для соответствующей координаты)\n",
    "        no_value (int): значение \"заглушка\"\n",
    "    Returns:\n",
    "        tuple: значение оптимальных затрат и направление\n",
    "    \"\"\"\n",
    "    if point[0] == opt_cost.shape[0] - 1 and point[1] == opt_cost.shape[1] - 1:\n",
    "        return 0, no_value\n",
    "\n",
    "    up_value, right_value = way_map[point]\n",
    "    if point[0] == opt_cost.shape[0] - 1:\n",
    "        return right_value + opt_cost[point[0], point[1]+1], 'right'\n",
    "    elif point[1] == opt_cost.shape[1] - 1:\n",
    "        return up_value + opt_cost[point[0]+1, point[1]], 'up'\n",
    "    else:\n",
    "        return (up_value + opt_cost[point[0]+1, point[1]], 'up') if up_value + opt_cost[point[0]+1, point[1]]<right_value + opt_cost[point[0], point[1]+1] else (right_value + opt_cost[point[0], point[1]+1], 'right')\n",
    "        \n",
    "        \n",
    "def solve_dynamicaly(way_map, m, n, no_value = -1):\n",
    "    \"\"\"\n",
    "    Ищет матрицу оптимальных затрат и матрицу направлений для задачи о наборе высоты и скорости\n",
    "    Args:\n",
    "        way_map (dict): словарь, в котором для каждого ключа (аргумента) хранится значение затрат\n",
    "            за один шаг вверх и направо соответственно\n",
    "        m (int): кол-во строк\n",
    "        n (int): кол-во столбцов\n",
    "    Returns:\n",
    "        tuple: Матрица оптимальных значений затрат и матрица оптимальных направлений\n",
    "    \"\"\"\n",
    "    max_path_length = m+n\n",
    "    directions_map = np.chararray((m, n), itemsize = 5)\n",
    "    directions_map[:] = no_value\n",
    "    opt_cost = no_value * np.ones((m, n))\n",
    "    \n",
    "    # Для каждой длины пути (от 0 до максимума) ищем оптимальные затраты и направления\n",
    "    for current_path_length in range(max_path_length + 1):\n",
    "        # Находим точки, удовлетворяющие условию текущей длины пути        \n",
    "        current_points = [(row, column) for row in range(m) for column in range(n) if max_path_length - (row+column) == current_path_length]\n",
    "        # Обновляем значения оптимальных затрат и направления для соответствующих точек       \n",
    "        for point in current_points:\n",
    "            opt_cost[point[0], point[1]], directions_map[point[0], point[1]] = find_min(point, way_map, opt_cost, no_value)\n",
    "    \n",
    "    return opt_cost, directions_map"
   ]
  },
  {
   "cell_type": "code",
   "execution_count": 362,
   "id": "2aac15ca-3d34-41b8-9863-b4645fbcd966",
   "metadata": {},
   "outputs": [
    {
     "data": {
      "text/plain": [
       "(array([[73., 60., 59., 59.],\n",
       "        [62., 50., 46., 44.],\n",
       "        [52., 41., 34., 33.],\n",
       "        [49., 36., 26., 23.],\n",
       "        [44., 29., 18., 12.],\n",
       "        [39., 21.,  9.,  0.]]),\n",
       " chararray([[b'right', b'up', b'up', b'up'],\n",
       "            [b'right', b'up', b'up', b'up'],\n",
       "            [b'right', b'right', b'up', b'up'],\n",
       "            [b'right', b'up', b'up', b'up'],\n",
       "            [b'right', b'right', b'up', b'up'],\n",
       "            [b'right', b'right', b'right', b'-1']], dtype='|S5'))"
      ]
     },
     "execution_count": 362,
     "metadata": {},
     "output_type": "execute_result"
    }
   ],
   "source": [
    "opt_cost, directions_map = solve_dynamicaly(way_map, 6, 4)\n",
    "opt_cost, directions_map"
   ]
  },
  {
   "cell_type": "code",
   "execution_count": 369,
   "id": "b0dec529-d31c-434b-a7dd-042a57efd74f",
   "metadata": {},
   "outputs": [
    {
     "name": "stdout",
     "output_type": "stream",
     "text": [
      "Оптимальные затраты:  73.0\n"
     ]
    },
    {
     "data": {
      "image/png": "[encoded data removed]",
      "text/plain": [
       "<Figure size 1440x360 with 3 Axes>"
      ]
     },
     "metadata": {
      "needs_background": "light"
     },
     "output_type": "display_data"
    }
   ],
   "source": [
    "import matplotlib.pyplot as plt\n",
    "import cv2\n",
    "\n",
    "def get_optimal_path(point, directions_map, no_value = -1):\n",
    "    \"\"\"\n",
    "    Возвращает путь от конкретной точки до конечной\n",
    "    \"\"\"\n",
    "    points = [point]\n",
    "    m, n = directions_map.shape\n",
    "    for _ in range(m+n):\n",
    "        direction = directions_map[point]\n",
    "        if direction == bytes('up', encoding = 'utf-8'):\n",
    "            point = (point[0]+1, point[1])\n",
    "        elif direction == bytes('right', encoding = 'utf-8'):\n",
    "            point = (point[0], point[1]+1)\n",
    "        points+=[point]\n",
    "    return np.array(points)[:,::-1]\n",
    "\n",
    "plt.figure(figsize = [20, 5])\n",
    "plt.subplot(1,3,1)\n",
    "plt.imshow(cv2.imread(os.path.join('data', 'hw-1.5.png'))[:,:,::-1])\n",
    "plt.axis('off')\n",
    "plt.subplot(1,3,2)\n",
    "plt.imshow(cv2.imread(os.path.join('data', 'manually_hw-1.5.jpg')))\n",
    "plt.axis('off')\n",
    "plt.subplot(1,3,3)\n",
    "opt_path = get_optimal_path((0,0), directions_map)\n",
    "plt.plot(opt_path[:,0], opt_path[:,1], 'ro--')\n",
    "# plot(x, y, 'go--', linewidth=2, markersize=12)\n",
    "plt.grid()\n",
    "print('Оптимальные затраты: ', opt_cost[0,0])"
   ]
  }
 ],
 "metadata": {
  "kernelspec": {
   "display_name": "Python 3 (ipykernel)",
   "language": "python",
   "name": "python3"
  },
  "language_info": {
   "codemirror_mode": {
    "name": "ipython",
    "version": 3
   },
   "file_extension": ".py",
   "mimetype": "text/x-python",
   "name": "python",
   "nbconvert_exporter": "python",
   "pygments_lexer": "ipython3",
   "version": "3.7.7"
  }
 },
 "nbformat": 4,
 "nbformat_minor": 5
}
