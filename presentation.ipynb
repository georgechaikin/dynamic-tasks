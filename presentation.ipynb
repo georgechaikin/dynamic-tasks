{
 "cells": [
  {
   "cell_type": "markdown",
   "id": "86d52814-deb6-46d7-907e-ee06a9630666",
   "metadata": {
    "slideshow": {
     "slide_type": "slide"
    },
    "tags": []
   },
   "source": [
    "# Задача о распределении инвестиций "
   ]
  },
  {
   "cell_type": "markdown",
   "id": "4ea99b13-ed5e-435f-be2a-58a1b434e344",
   "metadata": {
    "slideshow": {
     "slide_type": "slide"
    },
    "tags": []
   },
   "source": [
    "# Постановка задачи\n",
    "Совет директоров фирмы изучает предложения по модернизации $n$ предприятий.\n",
    "Для этих целей выделено $y_1$ миллионов долларов. Для каждого предприятия $j$ разработано несколько альтернативных проектов. Каждый из проектов характеризуется суммарными затратами $c_j$ и будущими доходами $R_j$ .Необходимо выбрать такие проекты для каждого предприятия,чтобы фирма получила максимальный годовой доход."
   ]
  },
  {
   "cell_type": "markdown",
   "id": "12e27c34-19d7-4ee4-bfcc-e7222227337f",
   "metadata": {
    "slideshow": {
     "slide_type": "slide"
    },
    "tags": []
   },
   "source": [
    "# Математическая постановка задачи\n",
    "\n",
    "Имеется функционал вида $W=\\sum\\limits_{i=1}^{n}{R_i(x_i)}$. Требуется найти оптимальное управление (такое $\\hat{x}=(\\hat{x}_1,...,\\hat{x}_n)\\in X^n$, что функционал $W$ достигает максимума, то есть $\\hat{W}=\\sum\\limits_{i=1}^{n}{R_i(\\hat{x}_i)} = max _{x\\in X^n}W(x)$) при ограничении $\\sum\\limits_{i=1}^n{c_i(\\hat{x}_i})\\leq y_1$ "
   ]
  },
  {
   "cell_type": "markdown",
   "id": "ca3adba9-1568-42db-acb6-80e97c22c6e0",
   "metadata": {
    "slideshow": {
     "slide_type": "slide"
    },
    "tags": []
   },
   "source": [
    "# Решение задачи\n",
    "\n",
    "Обозначим через $f_1(y_1)$ макисмальный годовой доход, который будет получен от реализации проектов $x_1, ..., x_n$ (вместе они составляют управление в динамичесокй задаче) при заданном объеме инвестиций $y_1$ млн. долларов (этот параметр будет отвечать за состояние в динамической задаче)."
   ]
  },
  {
   "cell_type": "markdown",
   "id": "395ea843-d7c6-4676-8694-8b9390e679cd",
   "metadata": {
    "slideshow": {
     "slide_type": "subslide"
    },
    "tags": []
   },
   "source": [
    "Этот максимальный годовой доход можно расписать рекуррентным соотношением:\n",
    "$$f_1(y_1)=\\max_{x_1\\in\\{x_1:c_1(x_1)\\leq y_1, x_1\\in X\\}}\\{R_1(x_1)+f_2(y_1-c_1(x_1))\\},$$\n",
    "где $f_2(y_2)$ - макисмальный годовой доход, который будет получен от реализации проектов $x_2, ..., x_n$ при заданном объеме инвестиций $y_2=y_1-c_1(x_1)$ млн. долларов."
   ]
  },
  {
   "cell_type": "markdown",
   "id": "3b9496ac-8835-4ac2-88b3-0e85cc6d48be",
   "metadata": {
    "slideshow": {
     "slide_type": "fragment"
    },
    "tags": []
   },
   "source": [
    "Аналогично для $f_2(y_2)$:\n",
    "$$f_2(y_2)=\\max_{x_2\\in\\{x_2:c_2(x_2)\\leq y_2, x_2\\in X\\}}\\{R_2(x_2)+f_3(y_2-c_2(x_2))\\},$$\n",
    "где $f_3(y_3)$ также обозначает макисмальный годовой доход при заданном объеме инвестиций $y_3=y_2-c_2(x_2)$ млн. долларов."
   ]
  },
  {
   "cell_type": "markdown",
   "id": "efebb751-91fe-4672-95e7-c878d6bee189",
   "metadata": {
    "slideshow": {
     "slide_type": "fragment"
    },
    "tags": []
   },
   "source": [
    "В конечном итоге уравнение Беллмана будет выглядеть следующим образом:\n",
    "\\begin{cases}\n",
    "f_{n+1}=0,\\\\\n",
    "f_i(y_i)=\\max_{x_i\\in\\{x_i:c_i(x_i)\\leq y_i, x_i\\in X\\}}\\{R_i(x_i)+f_{i+1}(y_i-c_i(x_i))\\},\n",
    "\\\\i=n,n-1,..., 1.\n",
    "\\end{cases}\n",
    "\n",
    "Таким образом сначала будем искать условно оптимальные управления, а после этого можно строить и оптимальные управления."
   ]
  },
  {
   "cell_type": "markdown",
   "id": "1e904f8c-4287-4c87-a69c-8c6dfe97a24e",
   "metadata": {
    "slideshow": {
     "slide_type": "slide"
    },
    "tags": []
   },
   "source": [
    "# Программная реализация"
   ]
  },
  {
   "cell_type": "code",
   "execution_count": 1,
   "id": "e11fb280-a7af-47e2-a1d0-25cc4a44dba6",
   "metadata": {
    "slideshow": {
     "slide_type": "subslide"
    },
    "tags": []
   },
   "outputs": [],
   "source": [
    "import pandas as pd\n",
    "import numpy as np"
   ]
  },
  {
   "cell_type": "code",
   "execution_count": 2,
   "id": "474f93f6-5b96-4ca0-83ac-9c886edc3c3c",
   "metadata": {
    "slideshow": {
     "slide_type": "fragment"
    },
    "tags": []
   },
   "outputs": [
    {
     "data": {
      "text/html": [
       "<div>\n",
       "<style scoped>\n",
       "    .dataframe tbody tr th:only-of-type {\n",
       "        vertical-align: middle;\n",
       "    }\n",
       "\n",
       "    .dataframe tbody tr th {\n",
       "        vertical-align: top;\n",
       "    }\n",
       "\n",
       "    .dataframe thead th {\n",
       "        text-align: right;\n",
       "    }\n",
       "</style>\n",
       "<table border=\"1\" class=\"dataframe\">\n",
       "  <thead>\n",
       "    <tr style=\"text-align: right;\">\n",
       "      <th></th>\n",
       "      <th></th>\n",
       "      <th>План 1</th>\n",
       "      <th>План 2</th>\n",
       "      <th>План 3</th>\n",
       "    </tr>\n",
       "    <tr>\n",
       "      <th>Предприятие</th>\n",
       "      <th>Параметр</th>\n",
       "      <th></th>\n",
       "      <th></th>\n",
       "      <th></th>\n",
       "    </tr>\n",
       "  </thead>\n",
       "  <tbody>\n",
       "    <tr>\n",
       "      <th rowspan=\"2\" valign=\"top\">Предприятие 1</th>\n",
       "      <th>c1</th>\n",
       "      <td>0</td>\n",
       "      <td>1</td>\n",
       "      <td>NaN</td>\n",
       "    </tr>\n",
       "    <tr>\n",
       "      <th>R1</th>\n",
       "      <td>0</td>\n",
       "      <td>3</td>\n",
       "      <td>NaN</td>\n",
       "    </tr>\n",
       "    <tr>\n",
       "      <th rowspan=\"2\" valign=\"top\">Предприятие 2</th>\n",
       "      <th>c2</th>\n",
       "      <td>0</td>\n",
       "      <td>3</td>\n",
       "      <td>5.0</td>\n",
       "    </tr>\n",
       "    <tr>\n",
       "      <th>R2</th>\n",
       "      <td>0</td>\n",
       "      <td>5</td>\n",
       "      <td>9.0</td>\n",
       "    </tr>\n",
       "    <tr>\n",
       "      <th rowspan=\"2\" valign=\"top\">Предприятие 3</th>\n",
       "      <th>c3</th>\n",
       "      <td>0</td>\n",
       "      <td>1</td>\n",
       "      <td>2.0</td>\n",
       "    </tr>\n",
       "    <tr>\n",
       "      <th>R3</th>\n",
       "      <td>0</td>\n",
       "      <td>4</td>\n",
       "      <td>6.0</td>\n",
       "    </tr>\n",
       "    <tr>\n",
       "      <th rowspan=\"2\" valign=\"top\">Предприятие 4</th>\n",
       "      <th>c4</th>\n",
       "      <td>0</td>\n",
       "      <td>2</td>\n",
       "      <td>NaN</td>\n",
       "    </tr>\n",
       "    <tr>\n",
       "      <th>R4</th>\n",
       "      <td>0</td>\n",
       "      <td>3</td>\n",
       "      <td>NaN</td>\n",
       "    </tr>\n",
       "  </tbody>\n",
       "</table>\n",
       "</div>"
      ],
      "text/plain": [
       "                        План 1  План 2  План 3\n",
       "Предприятие   Параметр                        \n",
       "Предприятие 1 c1             0       1     NaN\n",
       "              R1             0       3     NaN\n",
       "Предприятие 2 c2             0       3     5.0\n",
       "              R2             0       5     9.0\n",
       "Предприятие 3 c3             0       1     2.0\n",
       "              R3             0       4     6.0\n",
       "Предприятие 4 c4             0       2     NaN\n",
       "              R4             0       3     NaN"
      ]
     },
     "execution_count": 2,
     "metadata": {},
     "output_type": "execute_result"
    }
   ],
   "source": [
    "manufactories = ['Предприятие 1', 'Предприятие 2', 'Предприятие 3', 'Предприятие 4']\n",
    "columns = [\n",
    "    [copy for manufactory in manufactories for copy in [manufactory]*2],\n",
    "    [copy for i, variable in enumerate([('c', 'R')]*len(manufactories)) for copy in (variable[0]+str(i+1),variable[1]+str(i+1))]\n",
    "]\n",
    "placeholder = np.nan\n",
    "investments = [[0, 1, placeholder], [0,3, placeholder], [0,3,5], [0,5,9], [0,1,2], [0,4,6], [0, 2, placeholder], [0,3,placeholder]]\n",
    "data = [(*value[:-1], *value[-1]) for value in zip(*columns, investments)]\n",
    "df = pd.DataFrame(data, columns = ['Предприятие', 'Параметр', 'План 1','План 2','План 3'])\n",
    "df = df.set_index(['Предприятие', 'Параметр'])\n",
    "df"
   ]
  },
  {
   "cell_type": "code",
   "execution_count": 3,
   "id": "49ab88ad-0f79-4940-9604-16f094354a6d",
   "metadata": {
    "slideshow": {
     "slide_type": "subslide"
    },
    "tags": []
   },
   "outputs": [],
   "source": [
    "def get_table(y, c, R, f, placeholder = -1):\n",
    "    \"\"\"\n",
    "    Строит таблицу с возможными значениями годового дохода\n",
    "    Args:\n",
    "        y: вектор инвестиций\n",
    "        c: вектор затрат на каждый проект\n",
    "        R: вектор ежегодной прибыли\n",
    "        f: значения максимального ежегодного дохода на прошлом шаге\n",
    "        placeholder: заглушка для ячеек таблицы, где нет значения\n",
    "    Returns:\n",
    "        np.array: таблица с подсчитанными значениями годового дохода в зависимости от y и с\n",
    "    \"\"\"\n",
    "    table = np.subtract.outer(np.arange(5+1), c)\n",
    "    table = np.where(table>=0, table, np.nan)\n",
    "    table = np.where(np.isnan(table), placeholder, table).astype(np.int32)\n",
    "    result = np.where((table>=0), R+f[table], placeholder)\n",
    "    return result.astype(np.int32)\n",
    "\n",
    "def solve_dynamically(df, y, placeholder = -1):\n",
    "    \"\"\"\n",
    "    Решает задачу о распределении инвестиций\n",
    "    Args:\n",
    "        df (pd.DataFrame): Таблица со значениями затрат и ежегодной прибыли для каждого предприятия\n",
    "        y (int): Максимальное значение инвестиций\n",
    "    \"\"\"\n",
    "    manufactories_number, plan_number = df.shape[0]//2, df.shape[1]\n",
    "    f_i = np.zeros(y+1)\n",
    "    tables, values, directions = [], [], []\n",
    "    \n",
    "    # 1. Цикл для каждого предприятия от 1 до n\n",
    "    for i in range(manufactories_number, 0, -1):\n",
    "        # 2. Строим таблицы для каждого предприятия (размер (y1, m), где m==y_i)\n",
    "        c, R = df[2*(i-1):2*(i)].to_numpy()\n",
    "        table = get_table(np.arange(y+1), c, R, f_i, placeholder)\n",
    "        f_i, direction = table.max(axis=1), table.argmax(axis=1)\n",
    "        tables.append(table)\n",
    "        values.append(f_i)\n",
    "        directions.append(direction)\n",
    "    return tables, values, directions"
   ]
  },
  {
   "cell_type": "code",
   "execution_count": 4,
   "id": "a78d6d6e-5887-4688-8496-4e8d00c07054",
   "metadata": {
    "slideshow": {
     "slide_type": "fragment"
    },
    "tags": []
   },
   "outputs": [],
   "source": [
    "tables, values, directions = solve_dynamically(df, 5)"
   ]
  },
  {
   "cell_type": "code",
   "execution_count": 11,
   "id": "c8053693-c973-4c91-b8d5-22f2e40afa75",
   "metadata": {
    "slideshow": {
     "slide_type": "subslide"
    },
    "tags": []
   },
   "outputs": [
    {
     "data": {
      "text/plain": [
       "array([[ 0, -1, -1],\n",
       "       [ 4,  3, -1],\n",
       "       [ 6,  7, -1],\n",
       "       [ 7,  9, -1],\n",
       "       [ 9, 10, -1],\n",
       "       [11, 12, -1]])"
      ]
     },
     "execution_count": 11,
     "metadata": {},
     "output_type": "execute_result"
    }
   ],
   "source": [
    "tables[-1]"
   ]
  },
  {
   "cell_type": "code",
   "execution_count": 6,
   "id": "181be0da-28d7-49f9-9a2b-4f346aa618ae",
   "metadata": {},
   "outputs": [
    {
     "name": "stdout",
     "output_type": "stream",
     "text": [
      "\n"
     ]
    },
    {
     "data": {
      "image/png": "[encoded data removed]",
      "text/plain": [
       "<Figure size 432x288 with 1 Axes>"
      ]
     },
     "metadata": {
      "needs_background": "light"
     },
     "output_type": "display_data"
    }
   ],
   "source": [
    "import cv2\n",
    "import os\n",
    "import matplotlib.pyplot as plt\n",
    "\n",
    "img = cv2.imread(os.path.join('data', 'presentation_image(3).png'))\n",
    "plt.imshow(img[:,:,::-1])\n",
    "plt.axis(False)\n",
    "print()"
   ]
  },
  {
   "cell_type": "markdown",
   "id": "ac527b0e-ee77-4111-bb2b-9b7a9e156abb",
   "metadata": {
    "slideshow": {
     "slide_type": "slide"
    },
    "tags": []
   },
   "source": [
    "# Источники\n",
    "* Н.П.Визгунов. Динамическое программирование в экономических задачах c применением системы MATLAB. Н.Новгород: ННГУ, 2006. 50 с.\n",
    "* Вентцель Е.С. Исследование операций: задачи, принципы, методология. М. : КНОРУС, 2013. 192 с.\n",
    "* Зенкевич Н. А., Губар Е. А. Практикум по исследованиям операций. М. : Золотое сечение, 2007. 170 с."
   ]
  }
 ],
 "metadata": {
  "kernelspec": {
   "display_name": "Python 3 (ipykernel)",
   "language": "python",
   "name": "python3"
  },
  "language_info": {
   "codemirror_mode": {
    "name": "ipython",
    "version": 3
   },
   "file_extension": ".py",
   "mimetype": "text/x-python",
   "name": "python",
   "nbconvert_exporter": "python",
   "pygments_lexer": "ipython3",
   "version": "3.7.7"
  },
  "toc-autonumbering": false,
  "toc-showcode": false,
  "toc-showtags": false
 },
 "nbformat": 4,
 "nbformat_minor": 5
}
