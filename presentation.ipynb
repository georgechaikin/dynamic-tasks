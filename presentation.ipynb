{
 "cells": [
  {
   "cell_type": "markdown",
   "id": "86d52814-deb6-46d7-907e-ee06a9630666",
   "metadata": {},
   "source": [
    "# Задача о распределении инвестиций "
   ]
  },
  {
   "cell_type": "markdown",
   "id": "7b3b24e9-4209-4a61-81ce-f0adca31d504",
   "metadata": {},
   "source": []
  },
  {
   "cell_type": "markdown",
   "id": "4ea99b13-ed5e-435f-be2a-58a1b434e344",
   "metadata": {},
   "source": [
    "# Постановка задачи\n",
    "Совет директоров фирмы изучает предложения по модернизации $m$ предприятий.\n",
    "Для этих целей выделено $y_1$ миллионов долларов. Для каждого предприятия $j$ разработано несколько альтернативных проектов. Каждый из проектов характеризуется суммарными затратами $c_j$ и будущими доходами $R_j$ .Необходимо выбрать такие проекты для каждого предприятия,чтобы фирма получила максимальный годовой доход."
   ]
  },
  {
   "cell_type": "markdown",
   "id": "12e27c34-19d7-4ee4-bfcc-e7222227337f",
   "metadata": {},
   "source": [
    "# Математическая постановка задачи\n",
    "\n",
    "Имеется функционал вида $W=\\sum\\limits_{i=1}^{n}{R_i(x_i)}$. Требуется найти оптимальное управление (такое $\\hat{x}=(\\hat{x}_1,...,\\hat{x}_n)$, что функционал W достигает максимума, то есть $\\hat{W}=\\sum\\limits_{i=1}^{n}{R_i(\\hat{x}_i)}\\rightarrow max$) при ограничении $\\sum\\limits_{i=1}^n{c_i(\\hat{x}_i})\\leq y_1$, $\\hat{x}\\in \\mathbb{Z}$ "
   ]
  },
  {
   "cell_type": "markdown",
   "id": "ca3adba9-1568-42db-acb6-80e97c22c6e0",
   "metadata": {},
   "source": [
    "# Решение задачи\n",
    "\n",
    "Обозначим через $f_1(y_1)$ макисмальный годовой доход, который будет получен от реализации проектов $x_1, ..., x_n$ (вместе они составляют управление в динамичесокй задаче) при заданном объеме инвестиций $y_1$ млн. долларов (этот параметр будет отвечать за состояние в динамической задаче).\n",
    "\n",
    "Этот максимальный годовой доход можно расписать рекуррентным соотношением:\n",
    "$$f_1(y_1)=\\max_{x_1\\in\\{x_1:x_1\\leq y_1\\}}\\{R_1(x_1)+f_2(y_1-c_1(x_1))\\},$$\n",
    "где $f_2(y_2)$ - макисмальный годовой доход, который будет получен от реализации проектов $x_2, ..., x_n$ при заданном объеме инвестиций $y_2=y_1-c_1(x_1)$ млн. долларов.\n",
    "\n",
    "Аналогично для $f_2(y_2)$:\n",
    "$$f_2(y_2)=\\max_{x_2\\in\\{x_2:x_2\\leq y_2\\}}\\{R_2(x_2)+f_3(y_2-c_2(x_2))\\},$$\n",
    "где $f_3(y_3)$ также обозначает макисмальный годовой доход при заданном объеме инвестиций $y_3=y_2-c_2(x_2)$ млн. долларов.\n",
    "\n",
    "В конечном итоге уравнение Беллмана будет выглядеть следующим образом:\n",
    "\\begin{cases}\n",
    "f_{n+1}=0,\\\\\n",
    "f_i(y_i)=\\max_{x_i\\in\\{x_i:c_i(x_i)\\leq y_i\\}}\\{R_i(x_i)+f_{i+1}(y_i-c_i(x_i))\\},\n",
    "\\\\i=n,n-1,..., 1.\n",
    "\\end{cases}\n",
    "\n",
    "Таким образом сначала будем искать условно оптимальные управления, а после этого можно строить и оптимальные управления."
   ]
  },
  {
   "cell_type": "markdown",
   "id": "cc188187-36da-46db-a2b7-336dd53483ee",
   "metadata": {},
   "source": [
    "# Пример"
   ]
  },
  {
   "cell_type": "markdown",
   "id": "1e904f8c-4287-4c87-a69c-8c6dfe97a24e",
   "metadata": {},
   "source": [
    "# Программная реализация"
   ]
  },
  {
   "cell_type": "code",
   "execution_count": 2,
   "id": "e11fb280-a7af-47e2-a1d0-25cc4a44dba6",
   "metadata": {},
   "outputs": [
    {
     "data": {
      "text/plain": [
       "array([0, 1, 2, 3, 4, 5])"
      ]
     },
     "execution_count": 2,
     "metadata": {},
     "output_type": "execute_result"
    }
   ],
   "source": [
    "import pandas as pd\n",
    "import numpy as np\n",
    "\n",
    "y=5\n",
    "y_range=np.arange(0,y+1)\n",
    "y_range"
   ]
  },
  {
   "cell_type": "code",
   "execution_count": 440,
   "id": "474f93f6-5b96-4ca0-83ac-9c886edc3c3c",
   "metadata": {},
   "outputs": [
    {
     "data": {
      "text/html": [
       "<div>\n",
       "<style scoped>\n",
       "    .dataframe tbody tr th:only-of-type {\n",
       "        vertical-align: middle;\n",
       "    }\n",
       "\n",
       "    .dataframe tbody tr th {\n",
       "        vertical-align: top;\n",
       "    }\n",
       "\n",
       "    .dataframe thead th {\n",
       "        text-align: right;\n",
       "    }\n",
       "</style>\n",
       "<table border=\"1\" class=\"dataframe\">\n",
       "  <thead>\n",
       "    <tr style=\"text-align: right;\">\n",
       "      <th></th>\n",
       "      <th></th>\n",
       "      <th>План 1</th>\n",
       "      <th>План 2</th>\n",
       "      <th>План 3</th>\n",
       "    </tr>\n",
       "    <tr>\n",
       "      <th>Предприятие</th>\n",
       "      <th>Параметр</th>\n",
       "      <th></th>\n",
       "      <th></th>\n",
       "      <th></th>\n",
       "    </tr>\n",
       "  </thead>\n",
       "  <tbody>\n",
       "    <tr>\n",
       "      <th rowspan=\"2\" valign=\"top\">Предприятие 1</th>\n",
       "      <th>c1</th>\n",
       "      <td>0</td>\n",
       "      <td>1</td>\n",
       "      <td>NaN</td>\n",
       "    </tr>\n",
       "    <tr>\n",
       "      <th>R1</th>\n",
       "      <td>0</td>\n",
       "      <td>3</td>\n",
       "      <td>NaN</td>\n",
       "    </tr>\n",
       "    <tr>\n",
       "      <th rowspan=\"2\" valign=\"top\">Предприятие 2</th>\n",
       "      <th>c2</th>\n",
       "      <td>0</td>\n",
       "      <td>3</td>\n",
       "      <td>5.0</td>\n",
       "    </tr>\n",
       "    <tr>\n",
       "      <th>R2</th>\n",
       "      <td>0</td>\n",
       "      <td>5</td>\n",
       "      <td>9.0</td>\n",
       "    </tr>\n",
       "    <tr>\n",
       "      <th rowspan=\"2\" valign=\"top\">Предприятие 3</th>\n",
       "      <th>c3</th>\n",
       "      <td>0</td>\n",
       "      <td>1</td>\n",
       "      <td>2.0</td>\n",
       "    </tr>\n",
       "    <tr>\n",
       "      <th>R3</th>\n",
       "      <td>0</td>\n",
       "      <td>4</td>\n",
       "      <td>6.0</td>\n",
       "    </tr>\n",
       "    <tr>\n",
       "      <th rowspan=\"2\" valign=\"top\">Предприятие 4</th>\n",
       "      <th>c4</th>\n",
       "      <td>0</td>\n",
       "      <td>2</td>\n",
       "      <td>NaN</td>\n",
       "    </tr>\n",
       "    <tr>\n",
       "      <th>R4</th>\n",
       "      <td>0</td>\n",
       "      <td>3</td>\n",
       "      <td>NaN</td>\n",
       "    </tr>\n",
       "  </tbody>\n",
       "</table>\n",
       "</div>"
      ],
      "text/plain": [
       "                        План 1  План 2  План 3\n",
       "Предприятие   Параметр                        \n",
       "Предприятие 1 c1             0       1     NaN\n",
       "              R1             0       3     NaN\n",
       "Предприятие 2 c2             0       3     5.0\n",
       "              R2             0       5     9.0\n",
       "Предприятие 3 c3             0       1     2.0\n",
       "              R3             0       4     6.0\n",
       "Предприятие 4 c4             0       2     NaN\n",
       "              R4             0       3     NaN"
      ]
     },
     "execution_count": 440,
     "metadata": {},
     "output_type": "execute_result"
    }
   ],
   "source": [
    "# arrays = [\n",
    "#     np.array([\"bar\", \"bar\", \"baz\", \"baz\", \"foo\", \"foo\", \"qux\", \"qux\"]),\n",
    "#     np.array([\"one\", \"two\", \"one\", \"two\", \"one\", \"two\", \"one\", \"two\"]),\n",
    "# ]\n",
    "\n",
    "manufactories = ['Предприятие 1', 'Предприятие 2', 'Предприятие 3', 'Предприятие 4']\n",
    "columns = [\n",
    "    [copy for manufactory in manufactories for copy in [manufactory]*2],\n",
    "    [copy for i, variable in enumerate([('c', 'R')]*len(manufactories)) for copy in (variable[0]+str(i+1),variable[1]+str(i+1))]\n",
    "]\n",
    "# tuples = list(zip(*arrays))\n",
    "# index = pd.MultiIndex.from_tuples(tuples, names=[\"Manufactory\", \"Parameter\"])\n",
    "placeholder = np.nan\n",
    "investments = [[0, 1, placeholder], [0,3, placeholder], [0,3,5], [0,5,9], [0,1,2], [0,4,6], [0, 2, placeholder], [0,3,placeholder]]\n",
    "data = [(*value[:-1], *value[-1]) for value in zip(*columns, investments)]\n",
    "df = pd.DataFrame(data, columns = ['Предприятие', 'Параметр', 'План 1','План 2','План 3'])\n",
    "df = df.set_index(['Предприятие', 'Параметр'])\n",
    "df"
   ]
  },
  {
   "cell_type": "code",
   "execution_count": 530,
   "id": "49ab88ad-0f79-4940-9604-16f094354a6d",
   "metadata": {},
   "outputs": [],
   "source": [
    "\n",
    "def get_table(y, c, R, f, placeholder = -1):\n",
    "    table = np.subtract.outer(np.arange(5+1), c)\n",
    "    table = np.where(table>=0, table, np.nan)\n",
    "    table = np.where(np.isnan(table), placeholder, table).astype(np.int32)\n",
    "    # result = np.where(table>=0, 1,np.nan)*f.reshape([-1,1])\n",
    "    # result = np.where(result>=0, 1,np.nan)\n",
    "    # table = np.where(np.isnan(table), placeholder, table)\n",
    "    # print(table)\n",
    "    result = np.where((table>=0), R+f[table], placeholder)\n",
    "    # result = np.where((table>=0), R+f[table], np.nan)\n",
    "    # result = np.where(np.isnan(table), np.nan, R+f[table.astype(np.int32)])\n",
    "    return result.astype(np.int32)\n",
    "\n",
    "def solve_dynamically(df, y, placeholder = -1):\n",
    "    \"\"\"\n",
    "    Решает задачу о распределении инвестиций\n",
    "    \"\"\"\n",
    "    manufactories_number, plan_number = df.shape[0]//2, df.shape[1]\n",
    "    f_i = np.zeros(y+1)\n",
    "    tables, values, directions = [], [], []\n",
    "    \n",
    "    # 1. Цикл для каждого предприятия от 1 до n\n",
    "    for i in range(manufactories_number, 0, -1):\n",
    "        # 2. Строим таблицы для каждого предприятия (размер (y1, m), где m==y_i)\n",
    "        c, R = df[2*(i-1):2*(i)].to_numpy()\n",
    "        table = get_table(np.arange(y+1), c, R, f_i, placeholder)\n",
    "        f_i, direction = table.max(axis=1), table.argmax(axis=1)\n",
    "        tables.append(table)\n",
    "        values.append(f_i)\n",
    "        directions.append(direction)\n",
    "    return tables, values, directions"
   ]
  },
  {
   "cell_type": "code",
   "execution_count": 531,
   "id": "a78d6d6e-5887-4688-8496-4e8d00c07054",
   "metadata": {},
   "outputs": [],
   "source": [
    "tables, values, directions = solve_dynamically(df, 5)"
   ]
  },
  {
   "cell_type": "code",
   "execution_count": 532,
   "id": "c8053693-c973-4c91-b8d5-22f2e40afa75",
   "metadata": {},
   "outputs": [
    {
     "data": {
      "text/plain": [
       "[array([0, 0, 3, 3, 3, 3]),\n",
       " array([0, 4, 6, 7, 9, 9]),\n",
       " array([ 0,  4,  6,  7,  9, 11]),\n",
       " array([ 0,  4,  7,  9, 10, 12])]"
      ]
     },
     "execution_count": 532,
     "metadata": {},
     "output_type": "execute_result"
    }
   ],
   "source": [
    "values"
   ]
  },
  {
   "cell_type": "markdown",
   "id": "ac527b0e-ee77-4111-bb2b-9b7a9e156abb",
   "metadata": {},
   "source": [
    "# Источники\n",
    "* http://window.edu.ru/resource/647/45647/files/unn074.pdf\n",
    "* Вентцель Е.С. Исследование операций: задачи, принципы, методология. М. : КНОРУС, 2013. 192 с\n",
    "* Зенкевич Н. А., Губар Е. А. Практикум по исследованиям операций. М. : Золотое сечение, 2007. 170 с\n"
   ]
  }
 ],
 "metadata": {
  "kernelspec": {
   "display_name": "Python 3 (ipykernel)",
   "language": "python",
   "name": "python3"
  },
  "language_info": {
   "codemirror_mode": {
    "name": "ipython",
    "version": 3
   },
   "file_extension": ".py",
   "mimetype": "text/x-python",
   "name": "python",
   "nbconvert_exporter": "python",
   "pygments_lexer": "ipython3",
   "version": "3.7.7"
  }
 },
 "nbformat": 4,
 "nbformat_minor": 5
}
