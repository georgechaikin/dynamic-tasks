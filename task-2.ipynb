{
 "cells": [
  {
   "cell_type": "markdown",
   "id": "080a09b6-f2a1-4db2-b3f2-fd8c242b94bd",
   "metadata": {},
   "source": [
    "# Домашнее задание №2"
   ]
  },
  {
   "cell_type": "code",
   "execution_count": 1,
   "id": "ae8a76c7-9d95-4b1a-a631-209b2ba1e07e",
   "metadata": {},
   "outputs": [],
   "source": [
    "import os\n",
    "import numpy as np"
   ]
  },
  {
   "cell_type": "markdown",
   "id": "ffa58116-9d66-4184-97e1-880d69177465",
   "metadata": {},
   "source": [
    "<img src=\"data/ДЗ 2_5.jpg\" width = 500 height = 500 alt=\"Домашнее задание\" class = \"center\">"
   ]
  },
  {
   "cell_type": "code",
   "execution_count": 8,
   "id": "b53a535f-79c8-4221-bc25-e77ef844e682",
   "metadata": {},
   "outputs": [],
   "source": [
    "import ast\n",
    "\n",
    "def input_values(m, n, no_value = -1, save_path = os.path.join('data', 'map_2.txt')):\n",
    "    \"\"\"\n",
    "    Позволяет запонить словарь (ключ - координата) значениями затрат при соответстующем направлении, также заполняет txt файл\n",
    "    \"\"\"\n",
    "    way_map = {(row, column): [no_value, no_value, no_value] for row in range(m) for column in range(n)}\n",
    "    with open(save_path, 'w') as f:\n",
    "        for key in way_map.keys():\n",
    "            if key[1] < n - 1:\n",
    "                print(f'{key}->{(key[0], key[1]+1)}:')\n",
    "                way_map[key][1] = int(input())\n",
    "                f.write(f'{key}->{(key[0], key[1]+1)}: {way_map[key][1]}\\n' )\n",
    "            if key[0] < m - 1:\n",
    "                print(f'{key}->{(key[0]+1, key[1])}:')\n",
    "                way_map[key][0] = int(input())\n",
    "                f.write(f'{key}->{(key[0]+1, key[1])}: {way_map[key][0]}\\n' )\n",
    "            if key[0] < m - 1 and key[1] < n - 1:\n",
    "                print(f'{key}->{(key[0]+1, key[1]+1)}:')\n",
    "                way_map[key][2] = int(input())\n",
    "                f.write(f'{key}->{(key[0]+1, key[1]+1)}: {way_map[key][2]}\\n' )\n",
    "        return way_map\n",
    "\n",
    "def read_map(map_path = os.path.join('data', 'map.txt'), no_value = -1):\n",
    "    \"\"\"\n",
    "    Считывает координаты точек и затраты из txt файла\n",
    "    \"\"\"\n",
    "    result = dict()\n",
    "    with open(map_path, 'r') as f:\n",
    "        info = f.readline()\n",
    "        while info.strip():\n",
    "            info = info.strip()\n",
    "            direction, length = [info_part.strip() for info_part in info.split(':')]\n",
    "            begin, end = [ast.literal_eval(direction_part) for direction_part in direction.split('->')]\n",
    "            \n",
    "            if begin not in result:\n",
    "                result[begin] = [no_value, no_value, no_value]\n",
    "            if end not in result:\n",
    "                result[end] = [no_value, no_value, no_value]\n",
    "            \n",
    "            if end[0] - begin[0]>0 and end[1] - begin[1]>0:\n",
    "                result[begin][2] = int(length)\n",
    "            elif end[0] - begin[0]>0:\n",
    "                result[begin][0] = int(length)\n",
    "            elif end[1] - begin[1]>0:\n",
    "                result[begin][1] = int(length)\n",
    "            \n",
    "            info = f.readline()\n",
    "            \n",
    "        return result"
   ]
  },
  {
   "cell_type": "code",
   "execution_count": 9,
   "id": "48cff04a-ef64-49e4-aaab-f87bef63bf4f",
   "metadata": {},
   "outputs": [
    {
     "name": "stdout",
     "output_type": "stream",
     "text": [
      "(0, 0)->(0, 1):\n"
     ]
    },
    {
     "name": "stdin",
     "output_type": "stream",
     "text": [
      " 12\n"
     ]
    },
    {
     "name": "stdout",
     "output_type": "stream",
     "text": [
      "(0, 0)->(1, 0):\n"
     ]
    },
    {
     "name": "stdin",
     "output_type": "stream",
     "text": [
      " 7\n"
     ]
    },
    {
     "name": "stdout",
     "output_type": "stream",
     "text": [
      "(0, 0)->(1, 1):\n"
     ]
    },
    {
     "name": "stdin",
     "output_type": "stream",
     "text": [
      " 18\n"
     ]
    },
    {
     "name": "stdout",
     "output_type": "stream",
     "text": [
      "(0, 1)->(0, 2):\n"
     ]
    },
    {
     "name": "stdin",
     "output_type": "stream",
     "text": [
      " 13\n"
     ]
    },
    {
     "name": "stdout",
     "output_type": "stream",
     "text": [
      "(0, 1)->(1, 1):\n"
     ]
    },
    {
     "name": "stdin",
     "output_type": "stream",
     "text": [
      " 6\n"
     ]
    },
    {
     "name": "stdout",
     "output_type": "stream",
     "text": [
      "(0, 1)->(1, 2):\n"
     ]
    },
    {
     "name": "stdin",
     "output_type": "stream",
     "text": [
      " 20\n"
     ]
    },
    {
     "name": "stdout",
     "output_type": "stream",
     "text": [
      "(0, 2)->(0, 3):\n"
     ]
    },
    {
     "name": "stdin",
     "output_type": "stream",
     "text": [
      " 12\n"
     ]
    },
    {
     "name": "stdout",
     "output_type": "stream",
     "text": [
      "(0, 2)->(1, 2):\n"
     ]
    },
    {
     "name": "stdin",
     "output_type": "stream",
     "text": [
      " 8\n"
     ]
    },
    {
     "name": "stdout",
     "output_type": "stream",
     "text": [
      "(0, 2)->(1, 3):\n"
     ]
    },
    {
     "name": "stdin",
     "output_type": "stream",
     "text": [
      " 21\n"
     ]
    },
    {
     "name": "stdout",
     "output_type": "stream",
     "text": [
      "(0, 3)->(0, 4):\n"
     ]
    },
    {
     "name": "stdin",
     "output_type": "stream",
     "text": [
      " 10\n"
     ]
    },
    {
     "name": "stdout",
     "output_type": "stream",
     "text": [
      "(0, 3)->(1, 3):\n"
     ]
    },
    {
     "name": "stdin",
     "output_type": "stream",
     "text": [
      " 7\n"
     ]
    },
    {
     "name": "stdout",
     "output_type": "stream",
     "text": [
      "(0, 3)->(1, 4):\n"
     ]
    },
    {
     "name": "stdin",
     "output_type": "stream",
     "text": [
      " 19\n"
     ]
    },
    {
     "name": "stdout",
     "output_type": "stream",
     "text": [
      "(0, 4)->(0, 5):\n"
     ]
    },
    {
     "name": "stdin",
     "output_type": "stream",
     "text": [
      " 11\n"
     ]
    },
    {
     "name": "stdout",
     "output_type": "stream",
     "text": [
      "(0, 4)->(1, 4):\n"
     ]
    },
    {
     "name": "stdin",
     "output_type": "stream",
     "text": [
      " 8\n"
     ]
    },
    {
     "name": "stdout",
     "output_type": "stream",
     "text": [
      "(0, 4)->(1, 5):\n"
     ]
    },
    {
     "name": "stdin",
     "output_type": "stream",
     "text": [
      " 20\n"
     ]
    },
    {
     "name": "stdout",
     "output_type": "stream",
     "text": [
      "(0, 5)->(1, 5):\n"
     ]
    },
    {
     "name": "stdin",
     "output_type": "stream",
     "text": [
      " 10\n"
     ]
    },
    {
     "name": "stdout",
     "output_type": "stream",
     "text": [
      "(1, 0)->(1, 1):\n"
     ]
    },
    {
     "name": "stdin",
     "output_type": "stream",
     "text": [
      " 14\n"
     ]
    },
    {
     "name": "stdout",
     "output_type": "stream",
     "text": [
      "(1, 0)->(2, 0):\n"
     ]
    },
    {
     "name": "stdin",
     "output_type": "stream",
     "text": [
      " 9\n"
     ]
    },
    {
     "name": "stdout",
     "output_type": "stream",
     "text": [
      "(1, 0)->(2, 1):\n"
     ]
    },
    {
     "name": "stdin",
     "output_type": "stream",
     "text": [
      " 23\n"
     ]
    },
    {
     "name": "stdout",
     "output_type": "stream",
     "text": [
      "(1, 1)->(1, 2):\n"
     ]
    },
    {
     "name": "stdin",
     "output_type": "stream",
     "text": [
      " 13\n"
     ]
    },
    {
     "name": "stdout",
     "output_type": "stream",
     "text": [
      "(1, 1)->(2, 1):\n"
     ]
    },
    {
     "name": "stdin",
     "output_type": "stream",
     "text": [
      " 8\n"
     ]
    },
    {
     "name": "stdout",
     "output_type": "stream",
     "text": [
      "(1, 1)->(2, 2):\n"
     ]
    },
    {
     "name": "stdin",
     "output_type": "stream",
     "text": [
      " 21\n"
     ]
    },
    {
     "name": "stdout",
     "output_type": "stream",
     "text": [
      "(1, 2)->(1, 3):\n"
     ]
    },
    {
     "name": "stdin",
     "output_type": "stream",
     "text": [
      " 12\n"
     ]
    },
    {
     "name": "stdout",
     "output_type": "stream",
     "text": [
      "(1, 2)->(2, 2):\n"
     ]
    },
    {
     "name": "stdin",
     "output_type": "stream",
     "text": [
      " 9\n"
     ]
    },
    {
     "name": "stdout",
     "output_type": "stream",
     "text": [
      "(1, 2)->(2, 3):\n"
     ]
    },
    {
     "name": "stdin",
     "output_type": "stream",
     "text": [
      " 21\n"
     ]
    },
    {
     "name": "stdout",
     "output_type": "stream",
     "text": [
      "(1, 3)->(1, 4):\n"
     ]
    },
    {
     "name": "stdin",
     "output_type": "stream",
     "text": [
      " 10\n"
     ]
    },
    {
     "name": "stdout",
     "output_type": "stream",
     "text": [
      "(1, 3)->(2, 3):\n"
     ]
    },
    {
     "name": "stdin",
     "output_type": "stream",
     "text": [
      " 10\n"
     ]
    },
    {
     "name": "stdout",
     "output_type": "stream",
     "text": [
      "(1, 3)->(2, 4):\n"
     ]
    },
    {
     "name": "stdin",
     "output_type": "stream",
     "text": [
      " 19\n"
     ]
    },
    {
     "name": "stdout",
     "output_type": "stream",
     "text": [
      "(1, 4)->(1, 5):\n"
     ]
    },
    {
     "name": "stdin",
     "output_type": "stream",
     "text": [
      " 9\n"
     ]
    },
    {
     "name": "stdout",
     "output_type": "stream",
     "text": [
      "(1, 4)->(2, 4):\n"
     ]
    },
    {
     "name": "stdin",
     "output_type": "stream",
     "text": [
      " 11\n"
     ]
    },
    {
     "name": "stdout",
     "output_type": "stream",
     "text": [
      "(1, 4)->(2, 5):\n"
     ]
    },
    {
     "name": "stdin",
     "output_type": "stream",
     "text": [
      " 22\n"
     ]
    },
    {
     "name": "stdout",
     "output_type": "stream",
     "text": [
      "(1, 5)->(2, 5):\n"
     ]
    },
    {
     "name": "stdin",
     "output_type": "stream",
     "text": [
      " 12\n"
     ]
    },
    {
     "name": "stdout",
     "output_type": "stream",
     "text": [
      "(2, 0)->(2, 1):\n"
     ]
    },
    {
     "name": "stdin",
     "output_type": "stream",
     "text": [
      " 17\n"
     ]
    },
    {
     "name": "stdout",
     "output_type": "stream",
     "text": [
      "(2, 0)->(3, 0):\n"
     ]
    },
    {
     "name": "stdin",
     "output_type": "stream",
     "text": [
      " 10\n"
     ]
    },
    {
     "name": "stdout",
     "output_type": "stream",
     "text": [
      "(2, 0)->(3, 1):\n"
     ]
    },
    {
     "name": "stdin",
     "output_type": "stream",
     "text": [
      " 28\n"
     ]
    },
    {
     "name": "stdout",
     "output_type": "stream",
     "text": [
      "(2, 1)->(2, 2):\n"
     ]
    },
    {
     "name": "stdin",
     "output_type": "stream",
     "text": [
      " 14\n"
     ]
    },
    {
     "name": "stdout",
     "output_type": "stream",
     "text": [
      "(2, 1)->(3, 1):\n"
     ]
    },
    {
     "name": "stdin",
     "output_type": "stream",
     "text": [
      " 12\n"
     ]
    },
    {
     "name": "stdout",
     "output_type": "stream",
     "text": [
      "(2, 1)->(3, 2):\n"
     ]
    },
    {
     "name": "stdin",
     "output_type": "stream",
     "text": [
      " 28\n"
     ]
    },
    {
     "name": "stdout",
     "output_type": "stream",
     "text": [
      "(2, 2)->(2, 3):\n"
     ]
    },
    {
     "name": "stdin",
     "output_type": "stream",
     "text": [
      " 13\n"
     ]
    },
    {
     "name": "stdout",
     "output_type": "stream",
     "text": [
      "(2, 2)->(3, 2):\n"
     ]
    },
    {
     "name": "stdin",
     "output_type": "stream",
     "text": [
      " 13\n"
     ]
    },
    {
     "name": "stdout",
     "output_type": "stream",
     "text": [
      "(2, 2)->(3, 3):\n"
     ]
    },
    {
     "name": "stdin",
     "output_type": "stream",
     "text": [
      " 27\n"
     ]
    },
    {
     "name": "stdout",
     "output_type": "stream",
     "text": [
      "(2, 3)->(2, 4):\n"
     ]
    },
    {
     "name": "stdin",
     "output_type": "stream",
     "text": [
      " 10\n"
     ]
    },
    {
     "name": "stdout",
     "output_type": "stream",
     "text": [
      "(2, 3)->(3, 3):\n"
     ]
    },
    {
     "name": "stdin",
     "output_type": "stream",
     "text": [
      " 13\n"
     ]
    },
    {
     "name": "stdout",
     "output_type": "stream",
     "text": [
      "(2, 3)->(3, 4):\n"
     ]
    },
    {
     "name": "stdin",
     "output_type": "stream",
     "text": [
      " 25\n"
     ]
    },
    {
     "name": "stdout",
     "output_type": "stream",
     "text": [
      "(2, 4)->(2, 5):\n"
     ]
    },
    {
     "name": "stdin",
     "output_type": "stream",
     "text": [
      " 11\n"
     ]
    },
    {
     "name": "stdout",
     "output_type": "stream",
     "text": [
      "(2, 4)->(3, 4):\n"
     ]
    },
    {
     "name": "stdin",
     "output_type": "stream",
     "text": [
      " 14\n"
     ]
    },
    {
     "name": "stdout",
     "output_type": "stream",
     "text": [
      "(2, 4)->(3, 5):\n"
     ]
    },
    {
     "name": "stdin",
     "output_type": "stream",
     "text": [
      " 27\n"
     ]
    },
    {
     "name": "stdout",
     "output_type": "stream",
     "text": [
      "(2, 5)->(3, 5):\n"
     ]
    },
    {
     "name": "stdin",
     "output_type": "stream",
     "text": [
      " 15\n"
     ]
    },
    {
     "name": "stdout",
     "output_type": "stream",
     "text": [
      "(3, 0)->(3, 1):\n"
     ]
    },
    {
     "name": "stdin",
     "output_type": "stream",
     "text": [
      " 20\n"
     ]
    },
    {
     "name": "stdout",
     "output_type": "stream",
     "text": [
      "(3, 1)->(3, 2):\n"
     ]
    },
    {
     "name": "stdin",
     "output_type": "stream",
     "text": [
      " 18\n"
     ]
    },
    {
     "name": "stdout",
     "output_type": "stream",
     "text": [
      "(3, 2)->(3, 3):\n"
     ]
    },
    {
     "name": "stdin",
     "output_type": "stream",
     "text": [
      " 18\n"
     ]
    },
    {
     "name": "stdout",
     "output_type": "stream",
     "text": [
      "(3, 3)->(3, 4):\n"
     ]
    },
    {
     "name": "stdin",
     "output_type": "stream",
     "text": [
      " 15\n"
     ]
    },
    {
     "name": "stdout",
     "output_type": "stream",
     "text": [
      "(3, 4)->(3, 5):\n"
     ]
    },
    {
     "name": "stdin",
     "output_type": "stream",
     "text": [
      " 14\n"
     ]
    }
   ],
   "source": [
    "way_map = input_values(4, 6)"
   ]
  },
  {
   "cell_type": "code",
   "execution_count": 10,
   "id": "e5564dc7-7f31-4f93-b5ec-fc5ba2bc0e88",
   "metadata": {},
   "outputs": [
    {
     "data": {
      "text/plain": [
       "{(0, 0): [7, 12, 18],\n",
       " (0, 1): [6, 13, 20],\n",
       " (0, 2): [8, 12, 21],\n",
       " (0, 3): [7, 10, 19],\n",
       " (0, 4): [8, 11, 20],\n",
       " (0, 5): [10, -1, -1],\n",
       " (1, 0): [9, 14, 23],\n",
       " (1, 1): [8, 13, 21],\n",
       " (1, 2): [9, 12, 21],\n",
       " (1, 3): [10, 10, 19],\n",
       " (1, 4): [11, 9, 22],\n",
       " (1, 5): [12, -1, -1],\n",
       " (2, 0): [10, 17, 28],\n",
       " (2, 1): [12, 14, 28],\n",
       " (2, 2): [13, 13, 27],\n",
       " (2, 3): [13, 10, 25],\n",
       " (2, 4): [14, 11, 27],\n",
       " (2, 5): [15, -1, -1],\n",
       " (3, 0): [-1, 20, -1],\n",
       " (3, 1): [-1, 18, -1],\n",
       " (3, 2): [-1, 18, -1],\n",
       " (3, 3): [-1, 15, -1],\n",
       " (3, 4): [-1, 14, -1],\n",
       " (3, 5): [-1, -1, -1]}"
      ]
     },
     "execution_count": 10,
     "metadata": {},
     "output_type": "execute_result"
    }
   ],
   "source": [
    "way_map"
   ]
  },
  {
   "cell_type": "code",
   "execution_count": 81,
   "id": "8f225bd7-f010-4c45-9bd0-342901e1923f",
   "metadata": {},
   "outputs": [],
   "source": [
    "def find_min(point, way_map, opt_cost, no_value = -1):\n",
    "    \"\"\"\n",
    "    Ищет минимальную величину затрат и направление для конкретной точки для задачи о наборе высоты и скорости\n",
    "        (при условии, что соседние точки имеют оптимальные значения затрат или конкретная точка крайняя)\n",
    "    Args:\n",
    "        point (tuple): текущая точка\n",
    "        way_map (dict): словарь, в котором для каждого ключа (аргумента) хранится значение затрат\n",
    "            за один шаг вверх и направо соответственно\n",
    "        opt_cost (np.array): матрица оптимальных затрат\n",
    "            (каждое значение в матрице соответствует значению оптимпльных затрат для соответствующей координаты)\n",
    "        no_value (int): значение \"заглушка\"\n",
    "    Returns:\n",
    "        tuple: значение оптимальных затрат и направление\n",
    "    \"\"\"\n",
    "    if point[0] == opt_cost.shape[0] - 1 and point[1] == opt_cost.shape[1] - 1:\n",
    "        return 0, no_value\n",
    "\n",
    "    up_value, right_value, diag_value = way_map[point]\n",
    "    if point[0] == opt_cost.shape[0] - 1:\n",
    "        return right_value + opt_cost[point[0], point[1]+1], 'right'\n",
    "    elif point[1] == opt_cost.shape[1] - 1:\n",
    "        return up_value + opt_cost[point[0]+1, point[1]], 'up'\n",
    "    else:\n",
    "        direction_values = way_map[point]\n",
    "        # print(point)\n",
    "        # print(direction_values[0], opt_cost[point[0]+1, point[1]+0])\n",
    "        direction_map = {str_direction: way_value+opt_cost[point[0]+direction[0], point[1]+direction[1]] \\\n",
    "                         for direction, str_direction, way_value in \\\n",
    "                         zip([(1,0), (0,1), (1,1)], ['up', 'right', 'diag'], direction_values) if opt_cost[point[0]+direction[0], point[1]+direction[1]]!=no_value}\n",
    "        # direction_map = {key:value for in direction_map.items() if opt_cost[point[0]+direction[0], point[1]+direction[1]]!=no_value}\n",
    "        min_direction = min(direction_map, key=direction_map.get)\n",
    "        # print(direction_map)\n",
    "        # print(direction_map[min_direction], min_direction)\n",
    "        # print()\n",
    "        return direction_map[min_direction], min_direction\n",
    "    \n",
    "def path_length_equals(point, path_length, m, n):\n",
    "    \"\"\"\n",
    "    Проверяет, удовлетворяет ли точка длине пути (path_length)\n",
    "    \"\"\"\n",
    "    max_path_length = m+n-2\n",
    "    end_point = (m-1, n-1)\n",
    "    begin_point = (end_point[0]-path_length, end_point[1]-path_length)\n",
    "    point = (point[0]-begin_point[0], point[1]-begin_point[1])\n",
    "    if point[0]<0 or point[1]<0:\n",
    "        return False\n",
    "    return path_length-point[0]<=point[1]<=path_length\n",
    "\n",
    "def solve_dynamically(way_map, m, n, no_value = -1):\n",
    "    \"\"\"\n",
    "    Ищет матрицу оптимальных затрат и матрицу направлений для задачи о наборе высоты и скорости\n",
    "    Args:\n",
    "        way_map (dict): словарь, в котором для каждого ключа (аргумента) хранится значение затрат\n",
    "            за один шаг вверх и направо соответственно\n",
    "        m (int): кол-во строк\n",
    "        n (int): кол-во столбцов\n",
    "    Returns:\n",
    "        tuple: Матрица оптимальных значений затрат и матрица оптимальных направлений\n",
    "    \"\"\"\n",
    "    max_path_length = m+n-2\n",
    "    directions_map = np.chararray((m, n), itemsize = 5)\n",
    "    directions_map[:] = no_value\n",
    "    opt_cost = no_value * np.ones((m, n))\n",
    "    \n",
    "    # Для каждой длины пути (от 0 до максимума) ищем оптимальные затраты и направления\n",
    "    for current_path_length in range(max_path_length + 1):\n",
    "        # Находим точки, удовлетворяющие условию текущей длины пути        \n",
    "        current_points = [(row, column) for row in range(m) for column in range(n) if path_length_equals((row, column), current_path_length, m, n)]\n",
    "        # Обновляем значения оптимальных затрат и направления для соответствующих точек       \n",
    "        for point in current_points:\n",
    "            current_value, direction = find_min(point, way_map, opt_cost, no_value)\n",
    "            if opt_cost[point[0], point[1]] == no_value or current_value < opt_cost[point[0], point[1]]:\n",
    "                opt_cost[point[0], point[1]], directions_map[point[0], point[1]] = current_value, direction\n",
    "    \n",
    "    return opt_cost, directions_map"
   ]
  },
  {
   "cell_type": "code",
   "execution_count": 82,
   "id": "4f3bec20-975e-4059-a857-8cf0837d6091",
   "metadata": {},
   "outputs": [
    {
     "data": {
      "text/plain": [
       "(array([[88., 76., 64., 52., 44., 37.],\n",
       "        [84., 70., 57., 45., 36., 27.],\n",
       "        [80., 63., 49., 36., 26., 15.],\n",
       "        [85., 65., 47., 29., 14.,  0.]]),\n",
       " chararray([[b'right', b'up', b'right', b'up', b'up', b'up'],\n",
       "            [b'right', b'right', b'right', b'diag', b'right', b'up'],\n",
       "            [b'right', b'right', b'right', b'right', b'right', b'up'],\n",
       "            [b'right', b'right', b'right', b'right', b'right', b'-1']],\n",
       "           dtype='|S5'))"
      ]
     },
     "execution_count": 82,
     "metadata": {},
     "output_type": "execute_result"
    }
   ],
   "source": [
    "solve_dynamically(way_map, 4, 6)"
   ]
  },
  {
   "cell_type": "code",
   "execution_count": null,
   "id": "6c198907-d74d-4239-a2d0-56909017925f",
   "metadata": {},
   "outputs": [],
   "source": []
  }
 ],
 "metadata": {
  "kernelspec": {
   "display_name": "Python 3 (ipykernel)",
   "language": "python",
   "name": "python3"
  },
  "language_info": {
   "codemirror_mode": {
    "name": "ipython",
    "version": 3
   },
   "file_extension": ".py",
   "mimetype": "text/x-python",
   "name": "python",
   "nbconvert_exporter": "python",
   "pygments_lexer": "ipython3",
   "version": "3.7.7"
  }
 },
 "nbformat": 4,
 "nbformat_minor": 5
}
